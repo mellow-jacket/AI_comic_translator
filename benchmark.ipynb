{
 "cells": [
  {
   "cell_type": "markdown",
   "metadata": {},
   "source": [
    "# Place hard images in the benchmark folder\n",
    "\n",
    "This notebook will run over only the images in benchmark/\n",
    "\n",
    "Images in this folder are there because they are difficult or inconsistent.\n",
    "\n",
    "If a good result has been obtained, they may be added to examples.txt\n",
    "\n",
    "We can remove any such examples after finding a good solution"
   ]
  },
  {
   "cell_type": "code",
   "execution_count": 1,
   "metadata": {},
   "outputs": [
    {
     "name": "stderr",
     "output_type": "stream",
     "text": [
      "Updated property [core/project].\n",
      "Your browser has been opened to visit:\n",
      "\n",
      "    https://accounts.google.com/o/oauth2/auth?response_type=code&client_id=32555940559.apps.googleusercontent.com&redirect_uri=http%3A%2F%2Flocalhost%3A8085%2F&scope=openid+https%3A%2F%2Fwww.googleapis.com%2Fauth%2Fuserinfo.email+https%3A%2F%2Fwww.googleapis.com%2Fauth%2Fcloud-platform+https%3A%2F%2Fwww.googleapis.com%2Fauth%2Fappengine.admin+https%3A%2F%2Fwww.googleapis.com%2Fauth%2Fsqlservice.login+https%3A%2F%2Fwww.googleapis.com%2Fauth%2Fcompute+https%3A%2F%2Fwww.googleapis.com%2Fauth%2Faccounts.reauth&state=zG9sSSLNUowPrcIsC2J3PBmmtqE1e4&access_type=offline&code_challenge=GUwo0a7djWn9rSUb1ZKLl8PwLouLBk3xMoZ27nbwqPY&code_challenge_method=S256\n",
      "\n",
      "\n",
      "You are now logged in as [zwilson171@gmail.com].\n",
      "Your current project is [comictranslator-407423].  You can change this setting by running:\n",
      "  $ gcloud config set project PROJECT_ID\n"
     ]
    }
   ],
   "source": [
    "%matplotlib widget\n",
    "import ctpy as ct\n",
    "from dotenv import load_dotenv\n",
    "import os\n",
    "\n",
    "# Load environment variables from .env file\n",
    "load_dotenv()\n",
    "\n",
    "# Use the API key from .env OR set it as None\n",
    "try:\n",
    "    api_key = os.getenv('API_KEY')\n",
    "except:\n",
    "    api_key = None\n",
    "\n",
    "gemini_key = os.getenv('VERTEX')\n",
    "\n",
    "# name will determine the name used in raw_chapeters and final_chapters\n",
    "# url is used only for scrape()\n",
    "test = ct.issue(\n",
    "    name='benchmark',\n",
    "    url = 'benchmark', # pull images from benchmark folder\n",
    "    api_key = api_key,\n",
    "    gemini_key=gemini_key,\n",
    "    )\n",
    "\n",
    "# this will delete everything in raw_chapters/benchmark\n",
    "# comment it out to save gpt responses upon restart\n",
    "test.clear_directories()\n",
    "\n",
    "# you can rerun this everytime\n",
    "test.scrape()\n",
    "\n",
    "'''\n",
    "increasing scale_factor can help\n",
    "BUT it makes it more expensive\n",
    "\n",
    "Play around with it if you want to\n",
    "'''\n",
    "test.downsample(scale_factor=1.0)\n",
    "\n",
    "! gcloud config set project comictranslator-407423\n",
    "! gcloud auth login"
   ]
  },
  {
   "cell_type": "code",
   "execution_count": 2,
   "metadata": {},
   "outputs": [],
   "source": [
    "# pages can be combined, but we will leave them separate in the test\n",
    "\n",
    "#test.combine_pages(1,2)"
   ]
  },
  {
   "cell_type": "code",
   "execution_count": 3,
   "metadata": {},
   "outputs": [],
   "source": [
    "'''\n",
    "We need to draw boxes around all text in images\n",
    "I tried to automate it, but pytesseract did not perform well for this.\n",
    "\n",
    "Use next to go to the next image\n",
    "\n",
    "At the end things will lag because it is \n",
    "doing OKR Optical Korean Recognition on each image\n",
    "'''\n",
    "drawer = ct.BoxDrawer(test)\n",
    "if False:\n",
    "    drawer.draw()\n",
    "    drawer.save(name='benchmark')\n",
    "else:\n",
    "    drawer.load(name='benchmark')"
   ]
  },
  {
   "cell_type": "code",
   "execution_count": 4,
   "metadata": {},
   "outputs": [],
   "source": [
    "#test.add_boxes_to_images()"
   ]
  },
  {
   "cell_type": "code",
   "execution_count": 5,
   "metadata": {},
   "outputs": [],
   "source": [
    "test.perform_ocr_on_all_images()"
   ]
  },
  {
   "cell_type": "code",
   "execution_count": 6,
   "metadata": {},
   "outputs": [],
   "source": [
    "'''\n",
    "This method combines the full color image with the image used for OKR\n",
    "\n",
    "This also makes it more expensive.\n",
    "This might not be needed, but I do think it helps a lot.\n",
    "'''\n",
    "test.tile_page_for_gpt()"
   ]
  },
  {
   "cell_type": "code",
   "execution_count": 7,
   "metadata": {},
   "outputs": [],
   "source": [
    "test.resize_gpt(scale=2.0)"
   ]
  },
  {
   "cell_type": "code",
   "execution_count": 8,
   "metadata": {},
   "outputs": [
    {
     "name": "stdout",
     "output_type": "stream",
     "text": [
      "Gemini failure on  page_num_2.jpeg\n"
     ]
    }
   ],
   "source": [
    "'''\n",
    "pipe those images to the AI\n",
    "prompt will be saved in raw_chapters/benchmark/prompts\n",
    "response saved in raw_chapters/benchmark/response -and- /text\n",
    "\n",
    "To re-do just one of the pages, delete the file in...\n",
    "\n",
    "raw_chapters/benchmark/text/page_num_#.txt\n",
    "\n",
    "'''\n",
    "test.translate(model='gemini')"
   ]
  },
  {
   "cell_type": "code",
   "execution_count": 9,
   "metadata": {},
   "outputs": [
    {
     "ename": "NameError",
     "evalue": "name 'bbbbbb' is not defined",
     "output_type": "error",
     "traceback": [
      "\u001b[1;31m---------------------------------------------------------------------------\u001b[0m",
      "\u001b[1;31mNameError\u001b[0m                                 Traceback (most recent call last)",
      "Cell \u001b[1;32mIn[9], line 1\u001b[0m\n\u001b[1;32m----> 1\u001b[0m \u001b[43mbbbbbb\u001b[49m\n",
      "\u001b[1;31mNameError\u001b[0m: name 'bbbbbb' is not defined"
     ]
    }
   ],
   "source": [
    "bbbbbb"
   ]
  },
  {
   "cell_type": "code",
   "execution_count": null,
   "metadata": {},
   "outputs": [],
   "source": [
    "# pdf is formatted automatically\n",
    "# It can be weird if your images are too big or small\n",
    "test.make_pdf()\n",
    "\n",
    "# this test may report 'failed response'\n",
    "# check the response, sometimes GPT just says no.\n"
   ]
  },
  {
   "cell_type": "code",
   "execution_count": null,
   "metadata": {},
   "outputs": [],
   "source": [
    "gemini_key = os.getenv('VERTEX')\n",
    "! gcloud config set project comictranslator-407423\n",
    "! gcloud auth login"
   ]
  },
  {
   "cell_type": "code",
   "execution_count": null,
   "metadata": {},
   "outputs": [],
   "source": [
    "import pathlib\n",
    "import textwrap\n",
    "\n",
    "import google.generativeai as genai\n",
    "from vertexai.preview.generative_models import Part\n",
    "\n",
    "from IPython.display import display\n",
    "from IPython.display import Markdown\n",
    "\n",
    "import PIL.Image as Image\n",
    "\n",
    "def to_markdown(text):\n",
    "  text = text.replace('•', '  *')\n",
    "  return Markdown(textwrap.indent(text, '> ', predicate=lambda _: True))\n",
    "\n",
    "genai.configure(api_key=gemini_key)\n",
    "# Open the image file for reading in binary mode\n",
    "\n",
    "\n",
    "fname = 'page_num_3'\n",
    "issuename = 'benchmark'\n",
    "\n",
    "image = 'images'\n",
    "\n",
    "image1 = Image.open(f'raw_chapters/{issuename}/{image}/{fname}.jpeg')\n",
    "\n",
    "if False:\n",
    "  with open(f'raw_chapters/{issuename}/text/{fname}.txt', 'r') as f:\n",
    "    output=f.read()\n",
    "  text = ''' I will provide the previous result of an analysis to transcribe and translate a comic I wrote.\n",
    "    I will also provide the image itself. the base panel has been rotated 90 degrees to the left at the top.\n",
    "    Blow the panel are zooms of all relevant text on the panel.\n",
    "\n",
    "    You will make sure that no mistakes have been made when transcribing the korean text. You will correct any mistakes\n",
    "    You will make sure the korean has been translated correctly, you will correct it if is incorrect\n",
    "    You will verify the english sounds natural, and you will change it if it does not.\n",
    "\n",
    "    Here is the previous result\n",
    "\n",
    "    '''\n",
    "  text+= output\n",
    "elif True:\n",
    "  with open(f'raw_chapters/{issuename}/prompt/{fname}.txt', 'r') as f:\n",
    "    text=f.read()\n",
    "else:\n",
    "  text = '''\n",
    "  Can you help me transcribe the korean text that appears on this comic page?\n",
    "  After you transcribe it, can you translate it to english for me?\n",
    "\n",
    "  Please respond with this format\n",
    "\n",
    "  IMAGE_DESCRIPTION\n",
    "  describe the image\n",
    "  BEGIN_TEXT\n",
    "  KOREAN_TEXT\n",
    "  text here\n",
    "  ENGLISH_TEXT\n",
    "  text here\n",
    "  END_TEXT\n",
    "\n",
    "  Thank you for your help!\n",
    "  '''\n",
    "model = genai.GenerativeModel('gemini-pro-vision')\n",
    "responses = model.generate_content(\n",
    "  [image1, text],\n",
    "  generation_config={\n",
    "      \"max_output_tokens\": 2048,\n",
    "      \"temperature\": 0.5,\n",
    "      #\"top_p\": 1.0,\n",
    "      #\"top_k\": 32,\n",
    "  },\n",
    "  )\n",
    "  \n",
    "to_markdown(responses.text)\n"
   ]
  },
  {
   "cell_type": "code",
   "execution_count": null,
   "metadata": {},
   "outputs": [],
   "source": [
    "with open('test.txt', 'w') as f:\n",
    "    f.write(str(vars(responses)))"
   ]
  },
  {
   "cell_type": "code",
   "execution_count": null,
   "metadata": {},
   "outputs": [],
   "source": [
    "import json\n",
    "\n",
    "responses.text"
   ]
  },
  {
   "cell_type": "code",
   "execution_count": null,
   "metadata": {},
   "outputs": [],
   "source": [
    "with open(f'raw_chapters/{issuename}/text/{fname}.txt', 'r') as f:\n",
    "    prev=f.read()\n",
    "\n",
    "to_markdown(prev)"
   ]
  }
 ],
 "metadata": {
  "kernelspec": {
   "display_name": "comic_translator",
   "language": "python",
   "name": "python3"
  },
  "language_info": {
   "codemirror_mode": {
    "name": "ipython",
    "version": 3
   },
   "file_extension": ".py",
   "mimetype": "text/x-python",
   "name": "python",
   "nbconvert_exporter": "python",
   "pygments_lexer": "ipython3",
   "version": "3.11.6"
  }
 },
 "nbformat": 4,
 "nbformat_minor": 2
}
