{
 "cells": [
  {
   "cell_type": "code",
   "execution_count": 1,
   "metadata": {},
   "outputs": [],
   "source": [
    "import os\n",
    "\n",
    "os.chdir('..')"
   ]
  },
  {
   "cell_type": "code",
   "execution_count": null,
   "metadata": {},
   "outputs": [],
   "source": [
    "#! gcloud config set project comictranslator-407423\n",
    "#! gcloud auth login"
   ]
  },
  {
   "cell_type": "code",
   "execution_count": 2,
   "metadata": {},
   "outputs": [],
   "source": [
    "%matplotlib widget\n",
    "import ctpy as ct\n",
    "from dotenv import load_dotenv\n",
    "\n",
    "# Load environment variables from .env file\n",
    "load_dotenv()\n",
    "\n",
    "# Use the API key\n",
    "api_key = os.getenv('API_KEY')\n",
    "gemini_key = os.getenv('VERTEX')"
   ]
  },
  {
   "cell_type": "code",
   "execution_count": 3,
   "metadata": {},
   "outputs": [],
   "source": [
    "test = ct.issue(\n",
    "    name='issue266',\n",
    "    url = 'https://newtoki319.com/webtoon/34392985?toon=%EC%9D%BC%EB%B0%98%EC%9B%B9%ED%88%B0',\n",
    "    api_key=api_key,\n",
    "    gemini_key=gemini_key\n",
    "    )\n"
   ]
  },
  {
   "cell_type": "code",
   "execution_count": null,
   "metadata": {},
   "outputs": [],
   "source": [
    "#test.scrape()"
   ]
  },
  {
   "cell_type": "code",
   "execution_count": null,
   "metadata": {},
   "outputs": [],
   "source": [
    "#test.clear_directories()"
   ]
  },
  {
   "cell_type": "code",
   "execution_count": null,
   "metadata": {},
   "outputs": [],
   "source": [
    "#ct.split_file('raw_chapters/issue266/raw_images/page_num_5.jpeg')"
   ]
  },
  {
   "cell_type": "code",
   "execution_count": null,
   "metadata": {},
   "outputs": [],
   "source": [
    "#ct.separate_file('raw_chapters/issue266/raw_images/page_num_14.jpeg')"
   ]
  },
  {
   "cell_type": "code",
   "execution_count": null,
   "metadata": {},
   "outputs": [],
   "source": [
    "test.downsample(scale_factor=2.0)"
   ]
  },
  {
   "cell_type": "code",
   "execution_count": null,
   "metadata": {},
   "outputs": [],
   "source": [
    "test.combine_pages(2,3)\n",
    "test.combine_pages(13,14)\n",
    "test.combine_pages(18,19,20)\n",
    "test.combine_pages(23,24)\n",
    "test.combine_pages(25,26)\n",
    "test.combine_pages(34,35)\n",
    "test.combine_pages(36,37)\n",
    "test.combine_pages(38,39)\n",
    "test.combine_pages(40,41)\n",
    "test.combine_pages(42,43)\n",
    "test.combine_pages(47,48)\n",
    "test.combine_pages(53,54)\n",
    "test.combine_pages(55,56)\n",
    "test.combine_pages(62,63)\n",
    "test.combine_pages(64,65)\n",
    "test.combine_pages(67,68)\n",
    "test.combine_pages(69,70,71,72)\n",
    "test.combine_pages(73,74)\n",
    "test.combine_pages(84,85)\n",
    "test.combine_pages(86,87)\n",
    "test.combine_pages(90,91)\n",
    "test.combine_pages(92,93)\n"
   ]
  },
  {
   "cell_type": "code",
   "execution_count": null,
   "metadata": {},
   "outputs": [],
   "source": [
    "# Usage\n",
    "drawer = ct.BoxDrawer(test)\n",
    "drawer.draw()"
   ]
  },
  {
   "cell_type": "code",
   "execution_count": null,
   "metadata": {},
   "outputs": [],
   "source": [
    "test.perform_ocr_on_all_images()"
   ]
  },
  {
   "cell_type": "code",
   "execution_count": null,
   "metadata": {},
   "outputs": [],
   "source": [
    "test.add_boxes_to_images()"
   ]
  },
  {
   "cell_type": "code",
   "execution_count": 4,
   "metadata": {},
   "outputs": [],
   "source": [
    "if False:\n",
    "    test.copy_to_gpt_images()\n",
    "else:\n",
    "    test.combine_gpt_and_ocr()"
   ]
  },
  {
   "cell_type": "code",
   "execution_count": null,
   "metadata": {},
   "outputs": [],
   "source": [
    "test.translate(model = 'gemini')"
   ]
  },
  {
   "cell_type": "code",
   "execution_count": 8,
   "metadata": {},
   "outputs": [],
   "source": [
    "test.translate()"
   ]
  },
  {
   "cell_type": "code",
   "execution_count": 13,
   "metadata": {},
   "outputs": [],
   "source": [
    "\n",
    "test.make_pdf()\n"
   ]
  }
 ],
 "metadata": {
  "kernelspec": {
   "display_name": "comic_translator",
   "language": "python",
   "name": "python3"
  },
  "language_info": {
   "codemirror_mode": {
    "name": "ipython",
    "version": 3
   },
   "file_extension": ".py",
   "mimetype": "text/x-python",
   "name": "python",
   "nbconvert_exporter": "python",
   "pygments_lexer": "ipython3",
   "version": "3.11.6"
  }
 },
 "nbformat": 4,
 "nbformat_minor": 2
}
