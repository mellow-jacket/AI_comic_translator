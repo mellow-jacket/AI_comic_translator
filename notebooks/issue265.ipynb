{
 "cells": [
  {
   "cell_type": "code",
   "execution_count": 1,
   "metadata": {},
   "outputs": [],
   "source": [
    "import os\n",
    "\n",
    "os.chdir('..')"
   ]
  },
  {
   "cell_type": "code",
   "execution_count": null,
   "metadata": {},
   "outputs": [],
   "source": [
    "#! gcloud config set project comictranslator-407423\n",
    "#! gcloud auth login"
   ]
  },
  {
   "cell_type": "code",
   "execution_count": 2,
   "metadata": {},
   "outputs": [],
   "source": [
    "%matplotlib widget\n",
    "import ctpy as ct\n",
    "from dotenv import load_dotenv\n",
    "\n",
    "# Load environment variables from .env file\n",
    "load_dotenv()\n",
    "\n",
    "# Use the API key\n",
    "api_key = os.getenv('API_KEY')\n",
    "gemini_key = os.getenv('VERTEX')"
   ]
  },
  {
   "cell_type": "code",
   "execution_count": 3,
   "metadata": {},
   "outputs": [],
   "source": [
    "test = ct.issue(\n",
    "    name='issue265',\n",
    "    url = 'https://newtoki318.com/webtoon/34179817?toon=%EC%9D%BC%EB%B0%98%EC%9B%B9%ED%88%B0',\n",
    "    api_key=api_key,\n",
    "    gemini_key=gemini_key\n",
    "    )\n"
   ]
  },
  {
   "cell_type": "code",
   "execution_count": null,
   "metadata": {},
   "outputs": [],
   "source": [
    "#test.scrape()"
   ]
  },
  {
   "cell_type": "code",
   "execution_count": null,
   "metadata": {},
   "outputs": [],
   "source": [
    "test.clear_directories()"
   ]
  },
  {
   "cell_type": "code",
   "execution_count": null,
   "metadata": {},
   "outputs": [],
   "source": [
    "#ct.split_file('raw_chapters/issue265/raw_images/page_num_45.jpeg')"
   ]
  },
  {
   "cell_type": "code",
   "execution_count": null,
   "metadata": {},
   "outputs": [],
   "source": [
    "#ct.separate_file('raw_chapters/issue265/raw_images/page_num_61.jpeg')"
   ]
  },
  {
   "cell_type": "code",
   "execution_count": null,
   "metadata": {},
   "outputs": [],
   "source": [
    "test.downsample(scale_factor=2.0)"
   ]
  },
  {
   "cell_type": "code",
   "execution_count": null,
   "metadata": {},
   "outputs": [],
   "source": [
    "test.combine_pages(3,4)\n",
    "test.combine_pages(7,8)\n",
    "test.combine_pages(13,14)\n",
    "test.combine_pages(18,19)\n",
    "test.combine_pages(21,22)\n",
    "test.combine_pages(24,25)\n",
    "test.combine_pages(27,28)\n",
    "test.combine_pages(35,36)\n",
    "test.combine_pages(37,38)\n",
    "test.combine_pages(42,43)\n",
    "test.combine_pages(45,46)\n",
    "test.combine_pages(47,48)\n",
    "test.combine_pages(52,53)\n",
    "test.combine_pages(55,56)\n",
    "test.combine_pages(61,62)\n",
    "test.combine_pages(63,64,65)\n",
    "test.combine_pages(69,70)\n",
    "test.combine_pages(71,72)\n",
    "test.combine_pages(75,76)\n",
    "test.combine_pages(77,78)\n",
    "test.combine_pages(81,82)\n",
    "test.combine_pages(83,84)"
   ]
  },
  {
   "cell_type": "code",
   "execution_count": null,
   "metadata": {},
   "outputs": [],
   "source": [
    "# Usage\n",
    "drawer = ct.BoxDrawer(test,start = 0, end = 20)\n",
    "drawer.draw()"
   ]
  },
  {
   "cell_type": "code",
   "execution_count": null,
   "metadata": {},
   "outputs": [],
   "source": [
    "# Usage\n",
    "drawer = ct.BoxDrawer(test,start = 20, end = 50)\n",
    "drawer.draw()"
   ]
  },
  {
   "cell_type": "code",
   "execution_count": null,
   "metadata": {},
   "outputs": [],
   "source": [
    "# Usage\n",
    "drawer = ct.BoxDrawer(test,start = 50)\n",
    "drawer.draw()"
   ]
  },
  {
   "cell_type": "code",
   "execution_count": 4,
   "metadata": {},
   "outputs": [],
   "source": [
    "test.add_boxes_to_images()"
   ]
  },
  {
   "cell_type": "code",
   "execution_count": 5,
   "metadata": {},
   "outputs": [],
   "source": [
    "if True:\n",
    "    test.copy_to_gpt_images()\n",
    "else:\n",
    "    test.combine_gpt_and_ocr()"
   ]
  },
  {
   "cell_type": "code",
   "execution_count": 12,
   "metadata": {},
   "outputs": [],
   "source": [
    "test.translate(model='gemini')"
   ]
  },
  {
   "cell_type": "code",
   "execution_count": 11,
   "metadata": {},
   "outputs": [],
   "source": [
    "test.translate()"
   ]
  },
  {
   "cell_type": "code",
   "execution_count": 4,
   "metadata": {},
   "outputs": [],
   "source": [
    "\n",
    "test.make_pdf()\n"
   ]
  }
 ],
 "metadata": {
  "kernelspec": {
   "display_name": "comic_translator",
   "language": "python",
   "name": "python3"
  },
  "language_info": {
   "codemirror_mode": {
    "name": "ipython",
    "version": 3
   },
   "file_extension": ".py",
   "mimetype": "text/x-python",
   "name": "python",
   "nbconvert_exporter": "python",
   "pygments_lexer": "ipython3",
   "version": "3.11.6"
  }
 },
 "nbformat": 4,
 "nbformat_minor": 2
}
