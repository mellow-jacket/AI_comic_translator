{
 "cells": [
  {
   "cell_type": "code",
   "execution_count": null,
   "metadata": {},
   "outputs": [],
   "source": [
    "import os\n",
    "\n",
    "os.chdir()"
   ]
  },
  {
   "cell_type": "code",
   "execution_count": 1,
   "metadata": {},
   "outputs": [],
   "source": [
    "import ctpy as ct\n"
   ]
  },
  {
   "cell_type": "code",
   "execution_count": null,
   "metadata": {},
   "outputs": [],
   "source": []
  },
  {
   "cell_type": "code",
   "execution_count": 2,
   "metadata": {},
   "outputs": [],
   "source": [
    "test = ct.issue(\n",
    "    name='english258',\n",
    "    url = 'https://manga-demon.org/manga/Skeleton-Soldier/chapter/258-VA44'\n",
    "    )\n"
   ]
  },
  {
   "cell_type": "code",
   "execution_count": null,
   "metadata": {},
   "outputs": [],
   "source": [
    "#test.scrape()"
   ]
  },
  {
   "cell_type": "code",
   "execution_count": 3,
   "metadata": {},
   "outputs": [],
   "source": [
    "test.downsample(scale_factor=3.0)"
   ]
  },
  {
   "cell_type": "code",
   "execution_count": 4,
   "metadata": {},
   "outputs": [],
   "source": [
    "test.ocr(lang='eng')"
   ]
  },
  {
   "cell_type": "code",
   "execution_count": 5,
   "metadata": {},
   "outputs": [],
   "source": [
    "gptext = '''I am the writer and creator of the korean manwa skeleton soldier couldnt protect the dungeon.\n",
    "\n",
    "I am going to provide you two blocks of text that come from my comic book. \n",
    "They were both obtained using OCR.\n",
    "One will be in korean, one will be in english.\n",
    "They are both full of errors, format issues, sound effects\n",
    "\n",
    "I need you to help me format them into a document of the format...\n",
    "\n",
    "KOREAN_TEXT\n",
    "<text>\n",
    "ENGLISH_TEXT\n",
    "<text>\n",
    "KOREAN_TEXT\n",
    "<text>\n",
    "ENGLISH_TEXT\n",
    "<text>\n",
    "\n",
    "but I want it to not be full of OCR errors and sound effects.\n",
    "Can you help me please?\n",
    "\n",
    "Plase note: some things like the title of my comic are left in korean for the english OCR.\n",
    "These will appear as very bad errors, try to fix these mistakes too.\n",
    "Once you have fixed all of the OCR errors, please translate between these two docuemnts.\n",
    "Then format them so that corresponding korean and english sentences follow each other\n",
    "\n",
    "\\n\n",
    "'''"
   ]
  },
  {
   "cell_type": "code",
   "execution_count": 6,
   "metadata": {},
   "outputs": [],
   "source": [
    "import pyperclip\n",
    "\n",
    "eng_text = ''\n",
    "for file in os.listdir('english258/ocr_text/'):\n",
    "    with open(os.path.join('english258/ocr_text/',file)) as tf:\n",
    "        eng_text += tf.read()\n",
    "\n",
    "gptext+='Here is the english text :'+eng_text+'\\n'\n",
    "\n"
   ]
  },
  {
   "cell_type": "code",
   "execution_count": 7,
   "metadata": {},
   "outputs": [],
   "source": [
    "kor_text = 'Here is the korean text: '\n",
    "for file in os.listdir('issue258/ocr_text/'):\n",
    "    with open(os.path.join('issue258/ocr_text/',file)) as tf:\n",
    "        kor_text += tf.read()\n",
    "gptext+=kor_text\n",
    "gptext = gptext.replace('OCR analysis :','')"
   ]
  },
  {
   "cell_type": "code",
   "execution_count": 8,
   "metadata": {},
   "outputs": [],
   "source": [
    "pyperclip.copy(gptext)"
   ]
  },
  {
   "cell_type": "markdown",
   "metadata": {},
   "source": [
    "노블레스 비밀 장부로 새어나간 돈으로 김 회장 똥 구멍 채워 준 건 덤으로. 온. 녹급 캇 611후 후 ... 수도에서 남부로 오는 경로에 전초 기지를 준비해 났어. 제국이 쳐들어와도 어느 정도 시간을 벌 수 있을 거야. 그 전에 이것 좀 봐봐. 가이 녀석, 혈기 왕성해서 연구하는 맛이 있더라고. 짧영 셨싶뻔 캠겟 끓훈 귀취 향은 여전하군. 소개 할게. 그녀는 레드 플레랭크의 닥터 설 아라고. 책의 내용이 바뀌었다. 이 녀석은 내 최고 관심사야. 닥터 설 아, 특기는 연구, 취미도 연구. 연구는 재밌어. 너도 연구해도 돼? 농담이야. 넌 녀석 인가? 이 녀석, 소녀의 오른팔이야. 아무래도 소녀가 눈치 챘거 같아. 이런 뒷배가 있어서 배신한 거니까? 굶뭄 보갸토끼다었. 꽤 나끈 끈한 사이라 생각했는데, 실망이다. 끈하긴 랄. 너, 내가 소녀 그 새 싫어 하는 거 알고 있었으면서. 공작의 명령으로 온 거냐? 걱정 마시죠, 공작님은 자취를 감추셨습니다. 소녀가 사라졌다고? 네. 과장님의 배신을 알게 된 건 그저 우연입니다. 우연이라고? 혼자 행동했다는 말이냐? 저는 과장님께 관심이 많지 않습니까. 전에 과장님을 보기 위해 남부에 왔었습니다. 바름, 니 엔 전은 던 뿌본. 지민들의 표정이 너무 밝더군요. 그런데... 이 정도의 일을 과장님은 몰랐다? 말이, 안 되지 않습니까? 레드 플레라면... 채 들러를 먹어더. 머었던 행애 벌레들이 말이죠. 어떻게 됐는지 모르겠지만, 애벌레는 네크로멘서가 기우겠다며 가져갔다. 소녀가 사라졌다면 제국이 눈치 챌 가능성이 커. 제국은 이미 남부의 수상한 움직임을 감지했으니까요. 콜 닥, 감. 르 안드로 후작이 이끄는... 녹급 캇. 막죽지 마라. 넌 쓸모가 남았으니까. 너도 연구해도 돼? 농담이야. 넌 녀석 인가?"
   ]
  },
  {
   "cell_type": "code",
   "execution_count": null,
   "metadata": {},
   "outputs": [],
   "source": [
    "\n",
    "test.make_pdf()\n"
   ]
  },
  {
   "cell_type": "code",
   "execution_count": null,
   "metadata": {},
   "outputs": [],
   "source": [
    "import os\n",
    "\n",
    "[ x.split('.')[0]+'.txt' for x in  os.listdir(test.path['image']) ]"
   ]
  }
 ],
 "metadata": {
  "kernelspec": {
   "display_name": "comic_translator",
   "language": "python",
   "name": "python3"
  },
  "language_info": {
   "codemirror_mode": {
    "name": "ipython",
    "version": 3
   },
   "file_extension": ".py",
   "mimetype": "text/x-python",
   "name": "python",
   "nbconvert_exporter": "python",
   "pygments_lexer": "ipython3",
   "version": "3.11.6"
  }
 },
 "nbformat": 4,
 "nbformat_minor": 2
}
