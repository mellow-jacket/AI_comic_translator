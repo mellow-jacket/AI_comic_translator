{
 "cells": [
  {
   "cell_type": "markdown",
   "metadata": {},
   "source": [
    "Benchmark for novel translation to verify gpt & gemini as working\n",
    "\n",
    "This one is rougher than the examples and benchmark notebooks due to time constraints"
   ]
  },
  {
   "cell_type": "code",
   "execution_count": 1,
   "metadata": {},
   "outputs": [],
   "source": [
    "from dotenv import load_dotenv\n",
    "import os\n",
    "import ctpy as ct"
   ]
  },
  {
   "cell_type": "code",
   "execution_count": 2,
   "metadata": {},
   "outputs": [],
   "source": [
    "# Load api keys from .env file\n",
    "load_dotenv()\n",
    "\n",
    "# Use the API key from .env OR set it as None\n",
    "try:\n",
    "    api_key = os.getenv('API_KEY')\n",
    "except:\n",
    "    api_key = None\n",
    "\n",
    "gemini_key = os.getenv('VERTEX')"
   ]
  },
  {
   "cell_type": "code",
   "execution_count": 3,
   "metadata": {},
   "outputs": [],
   "source": [
    "# import the issue class\n",
    "test = ct.issue(url= 'https://booktoki319.com/novel/810021',\n",
    "                name = 'testChapter1',\n",
    "                api_key=api_key,\n",
    "                gemini_key=gemini_key\n",
    "                )"
   ]
  },
  {
   "cell_type": "code",
   "execution_count": null,
   "metadata": {},
   "outputs": [],
   "source": [
    "# one cell to scrape/refresh folders\n",
    "# I have it in one cell so we can skip it and retranslate existing data if needed\n",
    "if not bool(os.listdir(test.path['scraped_image'])):\n",
    "    # conditional makes it safe to run this cell again w/o pulling from the website\n",
    "    test.scrape_novel()\n",
    "else:\n",
    "    test.repopulate_from_scrape()\n",
    "# split images by whitespace for more meffective OCR\n",
    "test.md_autosplit(thold=100)\n",
    "# legacy method used to prepare images for OCR\n",
    "# for the novel this probably isnt needed, but the code has not been adjusted yet.\n",
    "test.downsample(scale_factor=1.0)\n",
    "# This method calls easyOCR on all the split pages\n",
    "test.ocr_novel()\n"
   ]
  },
  {
   "cell_type": "code",
   "execution_count": null,
   "metadata": {},
   "outputs": [],
   "source": [
    "#gcloud config set project comictranslator-407423\n",
    "#gcloud auth login"
   ]
  },
  {
   "cell_type": "code",
   "execution_count": 4,
   "metadata": {},
   "outputs": [],
   "source": [
    "# dont forget to run the commands above before trying to call gemini\n",
    "# run them in the terminal (Or use ! like the line below to call them in the notebook)\n",
    "#! gcloud config set project comictranslator-407423\n",
    "# the ! or magic commands are nice, but they are a pain if you are running cells again and again.\n",
    "\n",
    "test.translate_text(model='gemini')"
   ]
  },
  {
   "cell_type": "code",
   "execution_count": 5,
   "metadata": {},
   "outputs": [],
   "source": [
    "# the novel is stored in raw_chapters/name/text/name.txt\n",
    "# where name is the name given to the issue class\n",
    "test.load_chapter()"
   ]
  }
 ],
 "metadata": {
  "kernelspec": {
   "display_name": "comic_translator",
   "language": "python",
   "name": "python3"
  },
  "language_info": {
   "codemirror_mode": {
    "name": "ipython",
    "version": 3
   },
   "file_extension": ".py",
   "mimetype": "text/x-python",
   "name": "python",
   "nbconvert_exporter": "python",
   "pygments_lexer": "ipython3",
   "version": "3.11.6"
  }
 },
 "nbformat": 4,
 "nbformat_minor": 2
}
