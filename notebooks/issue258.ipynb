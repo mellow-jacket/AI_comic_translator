{
 "cells": [
  {
   "cell_type": "code",
   "execution_count": 1,
   "metadata": {},
   "outputs": [],
   "source": [
    "import os\n",
    "\n",
    "os.chdir('..')"
   ]
  },
  {
   "cell_type": "code",
   "execution_count": 2,
   "metadata": {},
   "outputs": [],
   "source": [
    "%matplotlib widget\n",
    "import ctpy as ct\n",
    "from dotenv import load_dotenv\n",
    "\n",
    "# Load environment variables from .env file\n",
    "load_dotenv()\n",
    "\n",
    "# Use the API key\n",
    "api_key = os.getenv('API_KEY')"
   ]
  },
  {
   "cell_type": "code",
   "execution_count": 3,
   "metadata": {},
   "outputs": [],
   "source": [
    "test = ct.issue(\n",
    "    name='issue258',\n",
    "    url = 'https://newtoki312.com/webtoon/32675929?toon=%EC%9D%BC%EB%B0%98%EC%9B%B9%ED%88%B0',\n",
    "    api_key = api_key\n",
    "    )\n"
   ]
  },
  {
   "cell_type": "code",
   "execution_count": null,
   "metadata": {},
   "outputs": [],
   "source": [
    "#test.scrape()"
   ]
  },
  {
   "cell_type": "code",
   "execution_count": null,
   "metadata": {},
   "outputs": [],
   "source": [
    "test.downsample(scale_factor=2.0)"
   ]
  },
  {
   "cell_type": "code",
   "execution_count": null,
   "metadata": {},
   "outputs": [],
   "source": [
    "test.combine_pages(3,4)\n",
    "test.combine_pages(5,6)\n",
    "test.combine_pages(7,8,9)\n",
    "test.combine_pages(10,11,12)\n",
    "test.combine_pages(13,14)\n",
    "test.combine_pages(15,16)\n",
    "test.combine_pages(17,18)\n",
    "test.combine_pages(19,20,21)\n",
    "test.combine_pages(22,23)\n",
    "test.combine_pages(24,25)\n",
    "test.combine_pages(26,27)\n",
    "test.combine_pages(29,30)\n",
    "test.combine_pages(31,32,33)\n",
    "test.combine_pages(34,35)\n",
    "test.combine_pages(37,38)\n",
    "test.combine_pages(39,40)\n",
    "test.combine_pages(41,42,43)\n",
    "test.combine_pages(45,46)\n",
    "test.combine_pages(47,48)\n",
    "test.combine_pages(49,50)\n",
    "test.combine_pages(51,52,53)\n",
    "test.combine_pages(54,55)\n",
    "test.combine_pages(56,57)\n",
    "test.combine_pages(58,59,60)\n",
    "test.combine_pages(61,62)\n",
    "test.combine_pages(63,64)\n",
    "test.combine_pages(65,66,67)\n",
    "test.combine_pages(68,69)\n",
    "test.combine_pages(70,71,72)\n",
    "test.combine_pages(73,74)\n",
    "test.combine_pages(75,76)\n",
    "test.combine_pages(77,78)\n",
    "test.combine_pages(80,81)\n",
    "test.combine_pages(82,83,84)\n",
    "test.combine_pages(85,86)\n",
    "test.combine_pages(87,88)\n",
    "test.combine_pages(89,90)\n",
    "test.combine_pages(91,92,93)\n",
    "test.combine_pages(94,95,96)\n",
    "test.combine_pages(97,98,99)\n",
    "test.combine_pages(101,102,103)\n",
    "test.combine_pages(104,105,106)\n",
    "test.combine_pages(107,108,109)\n",
    "test.combine_pages(110,111,112)\n",
    "test.combine_pages(113,114,115)\n",
    "test.combine_pages(116,117,118)\n",
    "test.combine_pages(120,121,122)\n",
    "test.combine_pages(123,124)\n",
    "test.combine_pages(125,126)\n",
    "test.combine_pages(127,128,129)\n"
   ]
  },
  {
   "cell_type": "code",
   "execution_count": null,
   "metadata": {},
   "outputs": [],
   "source": [
    "test.ocr()"
   ]
  },
  {
   "cell_type": "code",
   "execution_count": null,
   "metadata": {},
   "outputs": [],
   "source": [
    "#test.translate()"
   ]
  },
  {
   "cell_type": "code",
   "execution_count": null,
   "metadata": {},
   "outputs": [],
   "source": [
    "\n",
    "test.make_pdf()\n"
   ]
  },
  {
   "cell_type": "code",
   "execution_count": null,
   "metadata": {},
   "outputs": [],
   "source": [
    "import os\n",
    "\n",
    "[ x.split('.')[0]+'.txt' for x in  os.listdir(test.path['image']) ]"
   ]
  }
 ],
 "metadata": {
  "kernelspec": {
   "display_name": "comic_translator",
   "language": "python",
   "name": "python3"
  },
  "language_info": {
   "codemirror_mode": {
    "name": "ipython",
    "version": 3
   },
   "file_extension": ".py",
   "mimetype": "text/x-python",
   "name": "python",
   "nbconvert_exporter": "python",
   "pygments_lexer": "ipython3",
   "version": "3.11.6"
  }
 },
 "nbformat": 4,
 "nbformat_minor": 2
}
